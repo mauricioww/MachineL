{
 "cells": [
  {
   "cell_type": "markdown",
   "metadata": {
    "colab_type": "text",
    "id": "Rw2DFrI_913B"
   },
   "source": [
    "JORGE DIEGO GARCIA TORRES\n",
    "\n",
    "TITULO: Precios de la vivienda: técnicas avanzadas de regresión (KAGGLE)\n",
    "\n",
    "\n",
    "\n"
   ]
  },
  {
   "cell_type": "markdown",
   "metadata": {
    "colab_type": "text",
    "id": "otc3I-eZltUt"
   },
   "source": [
    "DESCRIPCION\n",
    "- SE TIENEN DOS ARCHIVOS, EL CONJUNTO DE ENTRENAMIENTO Y EL CONJUNTO TEST\n",
    "- SE DESEA HACER PREDICCIONES DEL PRECIO FINAL SOBRE EL CONJUNTO DE PRUEBA\n",
    "\n",
    "DESCRIPCION DE LOS DATOS\n",
    "\n",
    "- SalePrice - El precio de venta en dolares. Este es el objetivo o la variable que se quiere predecir\n",
    "- MSSubClass: La clase de construccion\n",
    "- MSZoning: la clasificacion general de la zona\n",
    "- LotFrontage: Linear feet of street connected to property \n",
    "- LotArea: Tamaño del lote en pies cuadrados\n",
    "- Street: Tipo de acceso por carretera\n",
    "- Alley: Tipo de acceso al callejon\n",
    "- LotShape: Forma general de propiedad\n",
    "- LandContour: Planitud del inmueble\n",
    "- Utilities: Tipo de utilidades disponibles\n",
    "- LotConfig: Configuración del lote\n",
    "- LandSlope: Pendiente de la propiedad\n",
    "- Neighborhood:  Ubicaciones físicas dentro de los límites de la ciudad de Ames\n",
    "- Condition1: Proximidad a la carretera principal o ferrocarril\n",
    "- Condition2: Proximidad a la carretera principal o al ferrocarril (si hay un segundo)\n",
    "- BldgType: Tipo de vivienda\n",
    "- HouseStyle: Estilo de vivienda\n",
    "- OverallQual:  Material general y calidad de acabado\n",
    "- OverallCond: Calificación de condición general\n",
    "- YearBuilt: Fecha de construcción original\n",
    "- YearRemodAdd: Fecha de remodelación\n",
    "- RoofStyle: Tipo de techo\n",
    "- RoofMatl: Material del techo\n",
    "- Exterior1st: Exterior covering on house Revestimiento exterior en casa\n",
    "- Exterior2nd: Exterior covering on house (si hay mas de un material)\n",
    "- MasVnrType: Tipo de chapa de albañilería\n",
    "- MasVnrArea: Área de chapa de albañilería en pies cuadrados\n",
    "- ExterQual: Calidad del material exterior\n",
    "- ExterCond: Condición actual del material en el exterior\n",
    "- Foundation: Tipo de fundacion\n",
    "- BsmtQual: Altura del sótano\n",
    "- BsmtCond: Estado general del sótano.\n",
    "- BsmtExposure: Paredes de sótano a nivel de jardín\n",
    "- BsmtFinType1: Calidad del área terminada del sótano\n",
    "- BsmtFinSF1:  Tipo 1 terminado pies cuadrados\n",
    "- BsmtFinType2: Calidad de la segunda área terminada (si está presente)\n",
    "- BsmtFinSF2: Tipo 2 pies cuadrados terminados\n",
    "- BsmtUnfSF: Pies cuadrados inacabados de área de sótano\n",
    "- TotalBsmtSF: Total de pies cuadrados de área de sótano\n",
    "- Heating: Tipo de calentamiento\n",
    "- HeatingQC: Calidad y estado de la calefacción.\n",
    "- CentralAir: Aire acondicionado central\n",
    "- Electrical: Sistema electrico\n",
    "- 1stFlrSF: pies cuadrados del primer piso\n",
    "- 2ndFlrSF: pies cuadrados del segundo piso\n",
    "- LowQualFinSF: pies cuadrados terminados de baja calidad (todos los pisos)\n",
    "- GrLivArea: Superficie habitable por encima del nivel del suelo (pies cuadrados)\n",
    "- BsmtFullBath: baños completos en el sotano\n",
    "- BsmtHalfBath: medio baño en el sotano\n",
    "- FullBath:  Baños completos sobre grade\n",
    "- HalfBath:  medio baños en grade\n",
    "- Bedroom: Numero de camas sobre el sotano\n",
    "- Kitchen: Numero de cocinas\n",
    "- KitchenQual: Calidad de la cocina\n",
    "- TotRmsAbvGrd: total de habitaciones por el encima no incluye baños\n",
    "- Functional: Calificación de funcionalidad del hogar\n",
    "- Fireplaces: Numero de chimeneas\n",
    "- FireplaceQu: Calidad de la chimenea\n",
    "- GarageType: Ubicación del garaje\n",
    "- GarageYrBlt: Año de construcción del garaje\n",
    "- GarageFinish: Acabado interior del garaje.\n",
    "- GarageCars: Tamaño del garaje en capacidad para automóviles\n",
    "- GarageArea: Tamaño del garaje en pies cuadrados\n",
    "- GarageQual: Calidad del garaje\n",
    "- GarageCond: Condiciones del garaje\n",
    "- PavedDrive: Camino pavimentado\n",
    "- WoodDeckSF: Área de cubierta de madera en pies cuadrados\n",
    "- OpenPorchSF: orche abierto area en metros cuadrados\n",
    "- EnclosedPorch: Porche cerrado area en metros cuadrados\n",
    "- 3SsnPorch: Porche de tres estaciones en metros cuadrados\n",
    "- ScreenPorch: Pantalla del porche en pies cuadrados \n",
    "- PoolArea: Area de piscina en pies cuadrados\n",
    "- PoolQC: Calidad de la piscina\n",
    "- Fence: Calidad de la cerca \n",
    "- MiscFeature: Caracteristicas variadas no cubiertas en otras categorias\n",
    "- MiscVal:  Valor de la caracteristicas miscelaneas\n",
    "- MoSold: Mes vendido\n",
    "- YrSold:  Año Vendido\n",
    "- SaleType:  Tipo de venta\n",
    "- SaleCondition: Condiciones de venta\n",
    "\n",
    "\n",
    "SKILLS\n",
    "- EXTRACCION DE CARACTERISTICAS\n",
    "- TECNICAS AVANZADAS DE REGRESION (RANDOM FOREST) Y (GRADIENT BOOSTING)\n",
    "\n",
    "OBJETIVO\n",
    "\n",
    "- PREDECIR EL PRECIO DE CADA CASA EN EL CONJUNTO TEST\n",
    "- LOS RESULTADOS SE EVALUAN CON RMLE DEL LOGARITMO DEL PRECIO PREDICHO Y EL OBSERVADO"
   ]
  },
  {
   "cell_type": "markdown",
   "metadata": {
    "colab_type": "text",
    "id": "ixXPLsG5xlKL"
   },
   "source": [
    "Montar Disco gdrive para tener acceso a los archivos personales en drive y cargar los archivos"
   ]
  },
  {
   "cell_type": "code",
   "execution_count": 7,
   "metadata": {
    "colab": {
     "base_uri": "https://localhost:8080/",
     "height": 122
    },
    "colab_type": "code",
    "id": "r4IRPkPFV91A",
    "outputId": "fc7bee0e-55c3-4f00-8445-fe21d02b40a9"
   },
   "outputs": [
    {
     "ename": "ModuleNotFoundError",
     "evalue": "No module named 'google'",
     "output_type": "error",
     "traceback": [
      "\u001b[1;31m---------------------------------------------------------------------------\u001b[0m",
      "\u001b[1;31mModuleNotFoundError\u001b[0m                       Traceback (most recent call last)",
      "\u001b[1;32m<ipython-input-7-4996ee3d8d09>\u001b[0m in \u001b[0;36m<module>\u001b[1;34m\u001b[0m\n\u001b[1;32m----> 1\u001b[1;33m \u001b[1;32mfrom\u001b[0m \u001b[0mgoogle\u001b[0m\u001b[1;33m.\u001b[0m\u001b[0mcolab\u001b[0m \u001b[1;32mimport\u001b[0m \u001b[0mdrive\u001b[0m\u001b[1;33m\u001b[0m\u001b[1;33m\u001b[0m\u001b[0m\n\u001b[0m\u001b[0;32m      2\u001b[0m \u001b[0mdrive\u001b[0m\u001b[1;33m.\u001b[0m\u001b[0mmount\u001b[0m\u001b[1;33m(\u001b[0m\u001b[1;34m'/content/gdrive'\u001b[0m\u001b[1;33m)\u001b[0m\u001b[1;33m\u001b[0m\u001b[1;33m\u001b[0m\u001b[0m\n",
      "\u001b[1;31mModuleNotFoundError\u001b[0m: No module named 'google'"
     ]
    }
   ],
   "source": [
    "from google.colab import drive\n",
    "drive.mount('/content/gdrive')\n"
   ]
  },
  {
   "cell_type": "markdown",
   "metadata": {
    "colab_type": "text",
    "id": "eIR2fCXOxw9I"
   },
   "source": [
    "Se crea un dataframe (Estructura de datos tabulares con pandas) y cargan los archivos desde drive"
   ]
  },
  {
   "cell_type": "code",
   "execution_count": null,
   "metadata": {
    "colab": {},
    "colab_type": "code",
    "id": "KXgkXFkoWSat"
   },
   "outputs": [],
   "source": [
    "import pandas as pd\n",
    "\n",
    "train_data = pd.read_csv('/content/sample_data/train.csv')\n",
    "test_data = pd.read_csv('/content/sample_data/test.csv')"
   ]
  },
  {
   "cell_type": "code",
   "execution_count": null,
   "metadata": {
    "colab": {},
    "colab_type": "code",
    "id": "1si8i9A-PUWv"
   },
   "outputs": [],
   "source": [
    "train = train_data\n",
    "test = test_data"
   ]
  },
  {
   "cell_type": "markdown",
   "metadata": {
    "colab_type": "text",
    "id": "6rghHHmdy4Gi"
   },
   "source": [
    "Se obtiene el numero de columnas y filas que tiene nuestra tabla"
   ]
  },
  {
   "cell_type": "code",
   "execution_count": null,
   "metadata": {
    "colab": {
     "base_uri": "https://localhost:8080/",
     "height": 51
    },
    "colab_type": "code",
    "id": "v9PEryLuQYrZ",
    "outputId": "c90016b7-ddb2-4f78-811b-a5967c99aab5"
   },
   "outputs": [],
   "source": [
    "print ('dimensionalidad del conjunto de entrenamiento',train.shape)\n",
    "print ('dimension del conjunto de prueba', test.shape)"
   ]
  },
  {
   "cell_type": "markdown",
   "metadata": {
    "colab_type": "text",
    "id": "hLYyE3gyy_D7"
   },
   "source": [
    "Se utilizan algunas librerias para graficos, visualizacion de datos estadisticos, herramientas matematicas, Machine Learning"
   ]
  },
  {
   "cell_type": "code",
   "execution_count": null,
   "metadata": {
    "colab": {
     "base_uri": "https://localhost:8080/",
     "height": 612
    },
    "colab_type": "code",
    "id": "5Be34ESL3u1X",
    "outputId": "56b0fa45-fe5d-4899-9d40-6e5f5a0968dc"
   },
   "outputs": [],
   "source": [
    "import pandas as pd\n",
    "import matplotlib.pyplot as plt\n",
    "import seaborn as sns\n",
    "import numpy as np\n",
    "from scipy.stats import norm\n",
    "from scipy.special import boxcox1p\n",
    "from scipy.stats import boxcox_normmax\n",
    "from sklearn.preprocessing import StandardScaler\n",
    "from scipy import stats\n",
    "import warnings\n",
    "warnings.filterwarnings('ignore')\n",
    "import os\n",
    "\n",
    "pd.set_option('display.float_format', lambda x: '{:.3f}'.format(x)) # Limitar los flotantes a 3 decimales\n",
    "%matplotlib inline\n",
    "\n",
    "# Guardar  la columna que tiene los identificadores\n",
    "train_ID = train['Id']\n",
    "test_ID = test['Id']\n",
    "\n",
    "#Se elimina la columna identificador pues no es necesaria para la predicción\n",
    "train.drop(\"Id\", axis = 1, inplace = True)\n",
    "test.drop(\"Id\", axis = 1, inplace = True)\n",
    "\n",
    "#Se eliminan los outliers que resultan obvios en el analisis de datos (Valores atipicos) \n",
    "#Que pueden ocurrir por que se hizo una mala medición\n",
    "train = train[train.GrLivArea < 4500]\n",
    "train.reset_index(drop=True, inplace=True)\n",
    "\n",
    "outliers = [30, 88, 462, 631, 1322]\n",
    "train = train.drop(train.index[outliers])\n",
    "\n",
    "print (train.columns)\n",
    "print(test.columns)\n",
    "print(train.shape,test.shape)\n"
   ]
  },
  {
   "cell_type": "markdown",
   "metadata": {
    "colab_type": "text",
    "id": "jZSl9CQ103uv"
   },
   "source": [
    "SE MUESTRAN LOS PRIMEROS 7 DATOS PARA OBSERVAR EL TIPO DE ATRIBUTOS QUE TIENEN COMO EL TIPO DE CALLE, ZONA, VECINDARIO, AÑO DE CONSTRUCCION (VARIABLES QUE PUEDEN SER VALORES CUANTITATIVOS Y CUALITATIVOS) Y OBSERVAR QUE EXISTEN VALORES PERDIDOS O QUE NO SE MIDIERON INDICADOS POR NA"
   ]
  },
  {
   "cell_type": "code",
   "execution_count": null,
   "metadata": {
    "colab": {
     "base_uri": "https://localhost:8080/",
     "height": 286
    },
    "colab_type": "code",
    "id": "WpoDE57xQntT",
    "outputId": "624b3e37-a42c-4b2a-ca96-7c7c00c67b0f"
   },
   "outputs": [],
   "source": [
    "train.head(7)"
   ]
  },
  {
   "cell_type": "markdown",
   "metadata": {
    "colab_type": "text",
    "id": "TpFtTgaT03AC"
   },
   "source": [
    "SE OBSERVA LA DESCRIPCION DE LOS DATOS COMO LA MEDIA, LA DESVIACION ESTANDAR"
   ]
  },
  {
   "cell_type": "code",
   "execution_count": null,
   "metadata": {
    "colab": {
     "base_uri": "https://localhost:8080/",
     "height": 317
    },
    "colab_type": "code",
    "id": "EGdB84xa370t",
    "outputId": "c00c17be-dd14-474a-e29b-717af9dc6629"
   },
   "outputs": [],
   "source": [
    "train.describe()"
   ]
  },
  {
   "cell_type": "markdown",
   "metadata": {
    "colab_type": "text",
    "id": "BIrKX35j1hvw"
   },
   "source": [
    "SE OBSERVA LA DESCRIPCION DE LA VARIABLE QUE SE QUIERE PREDECIR, YA QUE QUIZA ES LA VARIABLE MAS IMPORTANTE , EN GENERAL LOS MODELOS DE APRENDIZAJE FUNCIONAN MEJOR CON LOS MODELOS QUE TIENEN UNA DISTRIBUCION GAUSSIANA SIMETRICA, USUALMENTE SE REALIZA UNA TRANSFORMACION  LOGARITMICA PARA TENER ESTA SIMETRIA, PARA ESTO ES NECESARIO ENCONTRAR EL SWEW QUE ES UNA MEDIDA QUE NOS PUEDE DECIR QUE TANTO SE TIENE ESTE TIPO DE ASIMETRIA\n",
    "\n",
    "\\begin{equation} \n",
    "skew \\left( X  \\right) = E[ \\frac{X-\\mu}{\\sigma} ]^3\n",
    "\\end{equation}\n",
    "\n",
    "<br> Kurtosis: $$kurtosis(X) = E[ (\\frac{X-\\mu}{\\sigma})^4  ]$$\n",
    "\n"
   ]
  },
  {
   "cell_type": "code",
   "execution_count": null,
   "metadata": {
    "colab": {
     "base_uri": "https://localhost:8080/",
     "height": 170
    },
    "colab_type": "code",
    "id": "6Wxc0ZJCQ7Sw",
    "outputId": "75a13143-7898-45a1-9a66-b0b2750e0ece"
   },
   "outputs": [],
   "source": [
    "train.SalePrice.describe()"
   ]
  },
  {
   "cell_type": "markdown",
   "metadata": {
    "colab_type": "text",
    "id": "VF0V6XhB3HXg"
   },
   "source": [
    "IMAGEN DE TIPOS DE SKEW\n",
    "\n",
    "![](https://upload.wikimedia.org/wikipedia/commons/f/f8/Negative_and_positive_skew_diagrams_%28English%29.svg)\n",
    "\n",
    "\n",
    "\n"
   ]
  },
  {
   "cell_type": "code",
   "execution_count": null,
   "metadata": {
    "colab": {
     "base_uri": "https://localhost:8080/",
     "height": 313
    },
    "colab_type": "code",
    "id": "295gmYMJ4log",
    "outputId": "c3846764-cc1e-4670-ed24-744edeac048d"
   },
   "outputs": [],
   "source": [
    "train['SalePrice'].describe()\n",
    "#Histograma de los precios de las casas\n",
    "sns.distplot(train['SalePrice']);\n",
    "#skewness and kurtosis\n",
    "print(\"Skewness: %f\" % train['SalePrice'].skew())\n",
    "print(\"Kurtosis: %f\" % train['SalePrice'].kurt())"
   ]
  },
  {
   "cell_type": "markdown",
   "metadata": {
    "colab_type": "text",
    "id": "xiydOV8z4GOI"
   },
   "source": [
    "SE APLICA LA TRANSFORMACIÓN\n",
    "\n",
    "\\begin{equation*} Y = log(1 + X)) \\end{equation*}"
   ]
  },
  {
   "cell_type": "code",
   "execution_count": null,
   "metadata": {
    "colab": {
     "base_uri": "https://localhost:8080/",
     "height": 842
    },
    "colab_type": "code",
    "id": "TnEXK1JqE0PM",
    "outputId": "8af90a91-a095-46e1-91b6-7e7270427670"
   },
   "outputs": [],
   "source": [
    "from scipy import stats\n",
    "from scipy.stats import norm, skew #Para estadistica\n",
    "\n",
    "# Dibujando el histograma y la probabilidad\n",
    "fig = plt.figure(figsize=(15,5))\n",
    "plt.subplot(1,2,1)\n",
    "sns.distplot(train['SalePrice'] , fit=norm);\n",
    "(mu, sigma) = norm.fit(train['SalePrice'])\n",
    "print( '\\n mu = {:.2f} and sigma = {:.2f}\\n'.format(mu, sigma))\n",
    "plt.legend(['Normal dist. ($\\mu=$ {:.2f} and $\\sigma=$ {:.2f} )'.format(mu, sigma)],\n",
    "            loc='best')\n",
    "plt.ylabel('Frecuencia')\n",
    "plt.title('Distribución del precio de venta')\n",
    "plt.subplot(1,2,2)\n",
    "res = stats.probplot(train['SalePrice'], plot=plt)\n",
    "plt.suptitle('Antes de la transformación')\n",
    "\n",
    "# Aplicando la transformacion logaritmica\n",
    "train.SalePrice = np.log1p(train.SalePrice)\n",
    "# Nueva variable a predecir\n",
    "y_train = train.SalePrice.values\n",
    "y_train_orig = train.SalePrice\n",
    "\n",
    "# Dibujar el histograma y la probabilidad despues de la transformacion\n",
    "fig = plt.figure(figsize=(15,5))\n",
    "plt.subplot(1,2,1)\n",
    "sns.distplot(train['SalePrice'] , fit=norm);\n",
    "(mu, sigma) = norm.fit(train['SalePrice'])\n",
    "print( '\\n mu = {:.2f} and sigma = {:.2f}\\n'.format(mu, sigma))\n",
    "plt.legend(['Distribucion Normal. ($\\mu=$ {:.2f} and $\\sigma=$ {:.2f} )'.format(mu, sigma)],\n",
    "            loc='best')\n",
    "plt.ylabel('Frequencia')\n",
    "plt.title('Distribución del precio de venta')\n",
    "plt.subplot(1,2,2)\n",
    "res = stats.probplot(train['SalePrice'], plot=plt)\n",
    "plt.suptitle('Después de la transformación')"
   ]
  },
  {
   "cell_type": "markdown",
   "metadata": {
    "colab_type": "text",
    "id": "qfHRzS7J6dbS"
   },
   "source": [
    "SE UNEN LOS ATRIBUTOS DEL CONJUNTO DE ENTRENAMIENTO Y TEST"
   ]
  },
  {
   "cell_type": "code",
   "execution_count": null,
   "metadata": {
    "colab": {
     "base_uri": "https://localhost:8080/",
     "height": 34
    },
    "colab_type": "code",
    "id": "u659HPvVFB8C",
    "outputId": "b2070cce-23f8-49b5-d8d0-38dbd40fff09"
   },
   "outputs": [],
   "source": [
    "# y_train_orig = train.SalePrice\n",
    "# train.drop(\"SalePrice\", axis = 1, inplace = True)\n",
    "\n",
    "data_atributos = pd.concat((train, test)).reset_index(drop=True)\n",
    "print(data_atributos.shape)\n",
    "\n",
    "# print(train.SalePrice)"
   ]
  },
  {
   "cell_type": "markdown",
   "metadata": {
    "colab_type": "text",
    "id": "UigAkccn6sPx"
   },
   "source": [
    "COMO YA SE HABIA OBSERVADO EXISTEN DATOS PERDIDOS O NULOS (NA), PRIMERAMENTE SE OBSERVAN QUE ATRIBUTOS TIENEN ESTE TIPO DE DATOS Y CUANTOS TIENEN, Y SE CALCULA UN PORCENTAJE DE ACUERDO AL TOTAL "
   ]
  },
  {
   "cell_type": "code",
   "execution_count": null,
   "metadata": {
    "colab": {
     "base_uri": "https://localhost:8080/",
     "height": 629
    },
    "colab_type": "code",
    "id": "Ur-mZZGQFIhz",
    "outputId": "2562b4d1-79b2-4259-f52c-9cca321de0d2"
   },
   "outputs": [],
   "source": [
    "# Se obtienen el numero de datos perdidos por variable\n",
    "# se ordenan de mayor a menor \n",
    "data_atributos_na = data_atributos.isnull().sum()\n",
    "data_atributos_na = data_atributos_na[data_atributos_na>0]\n",
    "data_atributos_na.sort_values(ascending=False)"
   ]
  },
  {
   "cell_type": "code",
   "execution_count": null,
   "metadata": {
    "colab": {
     "base_uri": "https://localhost:8080/",
     "height": 669
    },
    "colab_type": "code",
    "id": "27Qwji_CFN4F",
    "outputId": "511c572f-4194-4cc8-96f0-c2dfb3d08ac6"
   },
   "outputs": [],
   "source": [
    "#Se calcula el porcentaje de datos perdidos de acuerdo al total y se crea una tabla y se muestran los primeros 20\n",
    "total = data_atributos.isnull().sum().sort_values(ascending=False)\n",
    "porcentaje = (data_atributos.isnull().sum()/data_atributos.isnull().count()).sort_values(ascending=False)\n",
    "datos_perdidos = pd.concat([total, porcentaje], axis=1, keys=['Total', 'Percent'])\n",
    "datos_perdidos.head(20)"
   ]
  },
  {
   "cell_type": "markdown",
   "metadata": {
    "colab_type": "text",
    "id": "5A10tau38GK2"
   },
   "source": [
    "ESTOS DATOS QUE EN SU MAYORIA SON NaN, NO o 0 SE NECESITAN REEMPLAZAR O ELIMINAR, SE CONVIERTEN LOS VALORES DE ALGUNAS VARIABLES EN CADENAS QUE NO SON RELEVANTES (o que en principio deberian ser palabras)"
   ]
  },
  {
   "cell_type": "code",
   "execution_count": null,
   "metadata": {
    "colab": {},
    "colab_type": "code",
    "id": "byVCF0mmFSO9"
   },
   "outputs": [],
   "source": [
    "string_vars = ['MSSubClass','YrSold','MoSold']\n",
    "for var in string_vars:\n",
    "    data_atributos[var] = data_atributos[var].apply(str)"
   ]
  },
  {
   "cell_type": "markdown",
   "metadata": {
    "colab_type": "text",
    "id": "wFj09Vp4-Hdt"
   },
   "source": [
    "CUANDO SOLO SE TIENE UNA O DOS VARIABLES PERDIDAS, EN GENERAL SE SUBSTITUYEN CON EL VALOR MAS COMUN "
   ]
  },
  {
   "cell_type": "code",
   "execution_count": null,
   "metadata": {
    "colab": {},
    "colab_type": "code",
    "id": "2EYOeIr1FV91"
   },
   "outputs": [],
   "source": [
    "# ATRIBUTOS COMO EXTERIOR1ST, EXTERIOR2ND, ETC, SE SUBSTITUYEN CON EL VALOR MAS COMUN\n",
    "\n",
    "\n",
    "variables_comunes = ['Exterior1st','Exterior2nd','SaleType','Electrical','KitchenQual']\n",
    "for var in variables_comunes:\n",
    "    data_atributos[var] = data_atributos[var].fillna(data_atributos[var].mode()[0])\n",
    "\n",
    "# 'RL' ES EL VALOR MAS COMUN, ASI QUE SE PUEDE UTILIZAR PARA LOS CAMPOS PERDIDOS EN MSZONING        \n",
    "data_atributos['MSZoning'] = data_atributos.groupby('MSSubClass')['MSZoning'].transform(lambda x: x.fillna(x.mode()[0]))"
   ]
  },
  {
   "cell_type": "markdown",
   "metadata": {
    "colab_type": "text",
    "id": "aJHXXlKk_pv6"
   },
   "source": [
    "EN ALGUNOS OTROS ATRIBUTOS EN GENERAL NA SIGNIFICA QUE NO SE CUENTA CON EL ATRIBUTO Y AL MISMO TIEMPO SON MAYORIA LAS CASAS QUE NO CUENTAN CON PISCINA (POR MENCIONAR UN EJEMPLO) POR LO QUE EN GENERAL CASI NINGUNO LO TENDRIA "
   ]
  },
  {
   "cell_type": "code",
   "execution_count": null,
   "metadata": {
    "colab": {},
    "colab_type": "code",
    "id": "jVuuz9unFaC7"
   },
   "outputs": [],
   "source": [
    "# los datos que tienen NA significa sin, la mayoria no cuenta con estos atributos, asi que los datos perdidos asumiran tambien dicho valor\n",
    "# features[] = features[\"PoolQC\"].fillna(\"None\")\n",
    "# remplazando valores perdidos con nada\n",
    "for columna in ['GarageType', 'GarageFinish', 'GarageQual', 'GarageCond','BsmtQual',\n",
    "            'BsmtCond', 'BsmtExposure', 'BsmtFinType1', 'BsmtFinType2',\"PoolQC\"\n",
    "           ,'Alley','Fence','MiscFeature','FireplaceQu','MasVnrType','Utilities']:\n",
    "    data_atributos[columna] = data_atributos[columna].fillna('None')\n",
    "\n",
    "# Para todas las categorias relacionadas con el sotano, se les pondra que no tienen sotano    \n",
    "# for columna in (:\n",
    "#     features[columna] = features[columna].fillna('None')"
   ]
  },
  {
   "cell_type": "markdown",
   "metadata": {
    "colab_type": "text",
    "id": "Ccb4SJ_SBAs6"
   },
   "source": [
    "ALGUNAS VARIABLES SE REEMPLAZAN CON CERO O LA MEDIA POR EJEMPLO LAS CASAS QUE NO TIENE GARAJE"
   ]
  },
  {
   "cell_type": "code",
   "execution_count": null,
   "metadata": {
    "colab": {
     "base_uri": "https://localhost:8080/",
     "height": 34
    },
    "colab_type": "code",
    "id": "qWfhchz_FfLT",
    "outputId": "1dbd3f79-17dc-4460-fd3c-cb8fd70ae59f"
   },
   "outputs": [],
   "source": [
    "# Reemplazar los datos faltantes con 0 (ya que Sin garaje = no hay automóviles en dicho garaje).\n",
    "\n",
    "for columna in ('GarageYrBlt', 'GarageArea', 'GarageCars','MasVnrArea','BsmtFinSF1','BsmtFinSF2'\n",
    "           ,'BsmtFullBath','BsmtHalfBath','FullBath','HalfBath','BsmtUnfSF','TotalBsmtSF'):\n",
    "    data_atributos[columna] = data_atributos[columna].fillna(0)\n",
    "\n",
    "# se agrupan por vecindario y se llenan los valores perdidos de acuerdo a la media lote de todos los vecindarios\n",
    "\n",
    "data_atributos['LotFrontage'] = data_atributos.groupby('Neighborhood')['LotFrontage'].transform(lambda x: x.fillna(x.median()))\n",
    "print('Features size:', data_atributos.shape)"
   ]
  },
  {
   "cell_type": "markdown",
   "metadata": {
    "colab_type": "text",
    "id": "c5fSYyALC6QR"
   },
   "source": [
    "Algunos datos unicos, los datos perdidos se llenan con el mismo valor"
   ]
  },
  {
   "cell_type": "code",
   "execution_count": null,
   "metadata": {
    "colab": {},
    "colab_type": "code",
    "id": "UQNim36PFhn9"
   },
   "outputs": [],
   "source": [
    "# descripcion de datos NA puede significar tipico o Typical \n",
    "data_atributos['Functional'] = data_atributos['Functional'].fillna('Typ')"
   ]
  },
  {
   "cell_type": "markdown",
   "metadata": {
    "colab_type": "text",
    "id": "EXsC2ku-EWpi"
   },
   "source": [
    "Se calcula el porcentaje de datos perdidos de acuerdo al total y se crea una tabla y se muestran los primeros 20\n"
   ]
  },
  {
   "cell_type": "code",
   "execution_count": null,
   "metadata": {
    "colab": {
     "base_uri": "https://localhost:8080/",
     "height": 669
    },
    "colab_type": "code",
    "id": "YWpENg9IFmSj",
    "outputId": "f637d2de-0085-440e-d570-52c270db4322"
   },
   "outputs": [],
   "source": [
    "#missing data\n",
    "total = data_atributos.isnull().sum().sort_values(ascending=False)\n",
    "porcentaje = (data_atributos.isnull().sum()/data_atributos.isnull().count()).sort_values(ascending=False)\n",
    "datos_perdidos  = pd.concat([total, percent], axis=1, keys=['Total', 'Percent'])\n",
    "datos_perdidos.head(20)"
   ]
  },
  {
   "cell_type": "markdown",
   "metadata": {
    "colab_type": "text",
    "id": "v_duhgjtE2GV"
   },
   "source": [
    "En general como ya se ha mencionado hay dos tipos de datos cualitativos o variables categoricas que no son numeros y cuantitativos que son numeros \n",
    "\n"
   ]
  },
  {
   "cell_type": "code",
   "execution_count": null,
   "metadata": {
    "colab": {
     "base_uri": "https://localhost:8080/",
     "height": 391
    },
    "colab_type": "code",
    "id": "wJSd1_DtFvTG",
    "outputId": "3a3160c6-d020-4541-f60e-eb15d5937fc8"
   },
   "outputs": [],
   "source": [
    "# Diferenciar entre atributos numericos y categoricos\n",
    "\n",
    "atributos_categoricos = data_atributos.select_dtypes(include=['object']).columns\n",
    "print(atributos_categoricos)\n",
    "atributos_numericos = data_atributos.select_dtypes(exclude = [\"object\"]).columns\n",
    "print(atributos_numericos)\n",
    "\n",
    "print(\"Atributos Numericos: \" + str(len(atributos_numericos)))\n",
    "print(\"Atributos Categoricos: \" + str(len(atributos_categoricos)))\n",
    "caracteristicas_numericas = data_atributos[atributos_numericos]                                       \n",
    "caracteristicas_categoricas = data_atributos[atributos_categoricos]"
   ]
  },
  {
   "cell_type": "markdown",
   "metadata": {
    "colab_type": "text",
    "id": "Z7z9vcQ3GM0r"
   },
   "source": [
    "SE MUSTRAN LAS PRIMERAS 10 CARACTERISTICAS NUMERICAS"
   ]
  },
  {
   "cell_type": "code",
   "execution_count": 2,
   "metadata": {
    "colab": {
     "base_uri": "https://localhost:8080/",
     "height": 379
    },
    "colab_type": "code",
    "id": "BvCdUW46Fx8f",
    "outputId": "46ad56be-91b2-4493-f7c9-b0ec0e12388e"
   },
   "outputs": [
    {
     "ename": "NameError",
     "evalue": "name 'caracteristicas_numericas' is not defined",
     "output_type": "error",
     "traceback": [
      "\u001b[1;31m---------------------------------------------------------------------------\u001b[0m",
      "\u001b[1;31mNameError\u001b[0m                                 Traceback (most recent call last)",
      "\u001b[1;32m<ipython-input-2-4672c3cc03b3>\u001b[0m in \u001b[0;36m<module>\u001b[1;34m\u001b[0m\n\u001b[1;32m----> 1\u001b[1;33m \u001b[0mcaracteristicas_numericas\u001b[0m\u001b[1;33m.\u001b[0m\u001b[0mhead\u001b[0m\u001b[1;33m(\u001b[0m\u001b[1;36m10\u001b[0m\u001b[1;33m)\u001b[0m\u001b[1;33m\u001b[0m\u001b[1;33m\u001b[0m\u001b[0m\n\u001b[0m",
      "\u001b[1;31mNameError\u001b[0m: name 'caracteristicas_numericas' is not defined"
     ]
    }
   ],
   "source": [
    "caracteristicas_numericas.head(10)"
   ]
  },
  {
   "cell_type": "markdown",
   "metadata": {
    "colab_type": "text",
    "id": "uXFexAkBGhhQ"
   },
   "source": [
    "SE MUSTRAN LAS PRIMERAS 10 CARACTERISTICAS CATEGORICAS"
   ]
  },
  {
   "cell_type": "code",
   "execution_count": null,
   "metadata": {
    "colab": {
     "base_uri": "https://localhost:8080/",
     "height": 379
    },
    "colab_type": "code",
    "id": "a9wdEd3GF3M5",
    "outputId": "caa891d3-3d17-4520-dbd4-8ba468b8b6eb"
   },
   "outputs": [],
   "source": [
    "caracteristicas_categoricas.head(10)"
   ]
  },
  {
   "cell_type": "markdown",
   "metadata": {
    "colab_type": "text",
    "id": "lmqsSupNHk6C"
   },
   "source": [
    "SE CALCULA EL SKEW DE CADA VARIABLE NUMERICA Y EXISTEN OTRO TIPO DE TRANSFORMACION (BOX COX)\n",
    "\n",
    "<br> ECUACION:\n",
    "![](https://www.statisticshowto.datasciencecentral.com/wp-content/uploads/2015/07/boxcox-formula-1.png)\n",
    "<br>"
   ]
  },
  {
   "cell_type": "code",
   "execution_count": null,
   "metadata": {
    "colab": {
     "base_uri": "https://localhost:8080/",
     "height": 612
    },
    "colab_type": "code",
    "id": "OxMsf41XGEJJ",
    "outputId": "4fc14b4b-af02-403a-b022-ecccf689dab7"
   },
   "outputs": [],
   "source": [
    "# Imprimir el valor del skew para cada valor numerico \n",
    "from scipy.stats import skew \n",
    "skewness = caracteristicas_numericas.apply(lambda x: skew(x))\n",
    "skewness.sort_values(ascending=False)"
   ]
  },
  {
   "cell_type": "markdown",
   "metadata": {
    "colab_type": "text",
    "id": "8HEqC_q4KCwX"
   },
   "source": [
    "SE CODIFICAN ALGUNAS CARACTERISTICAS SESGADAS CON LA TRANSFORMACION DE COX"
   ]
  },
  {
   "cell_type": "code",
   "execution_count": null,
   "metadata": {
    "colab": {
     "base_uri": "https://localhost:8080/",
     "height": 527
    },
    "colab_type": "code",
    "id": "_o4NtFphGHh3",
    "outputId": "b6442541-9cfc-48b2-96d6-c887a7ba72ef"
   },
   "outputs": [],
   "source": [
    "skewness = skewness[abs(skewness) > 0.5]\n",
    "print(\"hay {} algunas caracteristicas sesgadas para la transformacion de cox\".format(skewness.shape[0]))\n",
    "print(\"SESGOS MEDIOS: {}\".format(np.mean(skewness)))\n",
    "\n",
    "from scipy.special import boxcox1p\n",
    "skewed_atributos = skewness.index\n",
    "lam = 0.15\n",
    "for atributo in skewed_atributos:\n",
    "    caracteristicas_numericas[atributo] = boxcox1p(caracteristicas_numericas[atributo], boxcox_normmax(caracteristicas_numericas[atributo] + 1))\n",
    "    data_atributos[atributo] = boxcox1p(data_atributos[atributo], boxcox_normmax(data_atributos[atributo] + 1))\n",
    "    \n",
    "    \n",
    "from scipy.stats import skew \n",
    "skewness.sort_values(ascending=False)"
   ]
  },
  {
   "cell_type": "markdown",
   "metadata": {
    "colab_type": "text",
    "id": "A5VjW-w8LCYL"
   },
   "source": [
    "Podemos ver que muchos parámetros permanecieron sesgados.  DESPUES DE LA TRANSFORMACION DE COX "
   ]
  },
  {
   "cell_type": "code",
   "execution_count": null,
   "metadata": {
    "colab": {
     "base_uri": "https://localhost:8080/",
     "height": 357
    },
    "colab_type": "code",
    "id": "IkgvjYKEGLka",
    "outputId": "6b2dfb41-42d4-444a-a5f0-e4832fad15b8"
   },
   "outputs": [],
   "source": [
    "skewness = caracteristicas_numericas.apply(lambda x: skew(x))\n",
    "skewness = skewness[abs(skewness) > 0.5]\n",
    "\n",
    "print(\"hay {} caracteristicas numericas sesgadas despues de la transformacion de box cox\".format(skewness.shape[0]))\n",
    "print(\"SESGOS MEDIOS: {}\".format(np.mean(skewness)))\n",
    "skewness.sort_values(ascending=False)"
   ]
  },
  {
   "cell_type": "markdown",
   "metadata": {
    "colab_type": "text",
    "id": "5Lv6vNvOMxzu"
   },
   "source": [
    "Se puede agregar o crear mas atributos siempre y cuando estos proporcionen una informacion util al problema, por ejemplos los totales "
   ]
  },
  {
   "cell_type": "code",
   "execution_count": null,
   "metadata": {
    "colab": {},
    "colab_type": "code",
    "id": "lN-gxYqTGTUw"
   },
   "outputs": [],
   "source": [
    "# Calcular totales antes de descartar columnas menos significativas\n",
    "\n",
    "#  El numero total de pies cuadrados\n",
    "data_atributos['TotalSF']=data_atributos['TotalBsmtSF'] + data_atributos['1stFlrSF'] + data_atributos['2ndFlrSF']\n",
    "#  El numero total de baños\n",
    "data_atributos['Total_Bathrooms'] = (data_atributos['FullBath'] + (0.5 * data_atributos['HalfBath']) +\n",
    "                               data_atributos['BsmtFullBath'] + (0.5 * data_atributos['BsmtHalfBath']))\n",
    "\n",
    "# El numero total de portico o porche\n",
    "data_atributos['Total_porch_sf'] = (data_atributos['OpenPorchSF'] + data_atributos['3SsnPorch'] +\n",
    "                              data_atributos['EnclosedPorch'] + data_atributos['ScreenPorch'] +\n",
    "                              data_atributos['WoodDeckSF'])\n",
    "\n",
    "\n",
    "# data_atributos['Super_quality'] = OverallQual * \n",
    "# vars = ['OverallQual', 'GrLivArea', 'TotalBsmtSF', 'FullBath']"
   ]
  },
  {
   "cell_type": "markdown",
   "metadata": {
    "colab_type": "text",
    "id": "l3UHSJpDO1-G"
   },
   "source": [
    "# Se eliminan atributos que no son significativos o no pueden tener sesgos"
   ]
  },
  {
   "cell_type": "code",
   "execution_count": null,
   "metadata": {
    "colab": {
     "base_uri": "https://localhost:8080/",
     "height": 34
    },
    "colab_type": "code",
    "id": "ZX6WyTkRGWH_",
    "outputId": "1988fa0c-f4be-4c2a-a97b-c93a0f6c1ff8"
   },
   "outputs": [],
   "source": [
    "data_atributos['haspool'] = data_atributos['PoolArea'].apply(lambda x: 1 if x > 0 else 0)\n",
    "data_atributos['hasgarage'] = data_atributos['GarageArea'].apply(lambda x: 1 if x > 0 else 0)\n",
    "data_atributos['hasbsmt'] = data_atributos['TotalBsmtSF'].apply(lambda x: 1 if x > 0 else 0)\n",
    "data_atributos['hasfireplace'] = data_atributos['Fireplaces'].apply(lambda x: 1 if x > 0 else 0)\n",
    "\n",
    "\n",
    "# Que no sea normalmente distribuido no puede ser normalizado y no tiene una tendencia central\n",
    "data_atributos = data_atributos.drop(['MasVnrArea', 'OpenPorchSF', 'WoodDeckSF', 'BsmtFinSF1','2ndFlrSF'], axis=1)\n",
    "# data_atributos = data_atributos.drop(['MasVnrArea', 'OpenPorchSF', 'WoodDeckSF', 'BsmtFinSF1','2ndFlrSF',\n",
    "#                          'PoolArea','3SsnPorch','LowQualFinSF','MiscVal','BsmtHalfBath','ScreenPorch',\n",
    "#                          'ScreenPorch','KitchenAbvGr','BsmtFinSF2','EnclosedPorch','LotFrontage'\n",
    "#                          ,'BsmtUnfSF','GarageYrBlt'], axis=1)\n",
    "\n",
    "print('tamño de data_atributos :', data_atributos.shape)\n"
   ]
  },
  {
   "cell_type": "markdown",
   "metadata": {
    "colab_type": "text",
    "id": "YX_E_XlXPeiW"
   },
   "source": [
    "SE vuelve a particionar los datos en el conjunto de entrenamiento y test, Se DIBUJAN LA RELACION DE CADA VARIABLE CON LA VARIABLE PRECIO PARA IDENTIFICAR OUTLIERS , ETC"
   ]
  },
  {
   "cell_type": "code",
   "execution_count": null,
   "metadata": {
    "colab": {
     "base_uri": "https://localhost:8080/",
     "height": 34
    },
    "colab_type": "code",
    "id": "pUwY4inmGgsH",
    "outputId": "d3467500-7dd5-445e-8fe3-9a78d08a2d94"
   },
   "outputs": [],
   "source": [
    "train = data_atributos.iloc[:len(y_train), :]\n",
    "test = data_atributos.iloc[len(y_train):, :]\n",
    "print(['Train data shpe: ',train.shape,'Prediction on (Sales price) shape: ', y_train.shape,'Test shape: ', test.shape])"
   ]
  },
  {
   "cell_type": "code",
   "execution_count": null,
   "metadata": {
    "colab": {
     "base_uri": "https://localhost:8080/",
     "height": 1000
    },
    "colab_type": "code",
    "id": "tDk7QNiXGj8l",
    "outputId": "f10f1dd8-a355-41d8-dd4b-3493c1c4e6ca"
   },
   "outputs": [],
   "source": [
    "variables = data_atributos.columns\n",
    "# vars = numerical_features\n",
    "figuras_por_fila = 4\n",
    "count = 0 \n",
    "y = y_train\n",
    "for variable in variables:\n",
    "    x = train[variable]\n",
    "#     print(y.shape,x.shape)\n",
    "    plt.figure(count//figuras_por_fila,figsize=(25,5))\n",
    "    plt.subplot(1,figuras_por_fila,np.mod(count,4)+1)\n",
    "    plt.scatter(x, y);\n",
    "    plt.title('variable= {}'.format(variable))\n",
    "    count+=1"
   ]
  },
  {
   "cell_type": "markdown",
   "metadata": {
    "colab_type": "text",
    "id": "cR-RMjC0SDI0"
   },
   "source": [
    "SE ELIMINAN OUTLIERS"
   ]
  },
  {
   "cell_type": "code",
   "execution_count": null,
   "metadata": {
    "colab": {},
    "colab_type": "code",
    "id": "t4KNK91yGr50"
   },
   "outputs": [],
   "source": [
    "# Removes outliers \n",
    "# outliers = [30, 88, 462, 631, 1322]\n",
    "# train = train.drop(train.index[outliers])\n",
    "y_train = train['SalePrice']"
   ]
  },
  {
   "cell_type": "markdown",
   "metadata": {
    "colab_type": "text",
    "id": "D-w8OKcwT0Ht"
   },
   "source": [
    "SE DIBUJAN O CREAN DIAGRAMAS DE CAJA QUE NOS DICEN DONDE ESTAN LOS VALORES EXTREMOS, LA MEDIA, LOS QUARTILES, LOS DATOS ATIPICOS, LA DISTRIBUCION, EL MINIMO Y EL MAXIMO, ETC."
   ]
  },
  {
   "cell_type": "code",
   "execution_count": null,
   "metadata": {
    "colab": {
     "base_uri": "https://localhost:8080/",
     "height": 1000
    },
    "colab_type": "code",
    "id": "johNoFUGG2MV",
    "outputId": "e16e4b9d-22ab-46a5-8694-7969694b0af9"
   },
   "outputs": [],
   "source": [
    "# vars_box = ['OverallQual','YearBuilt','BedroomAbvGr']\n",
    "\n",
    "variables_box = caracteristicas_categoricas\n",
    "for variable in variables_box:\n",
    "    data = pd.concat([train['SalePrice'], train[variable]], axis=1)\n",
    "    f, ax = plt.subplots(figsize=(8, 6))\n",
    "    fig = sns.boxplot(x=variable, y=\"SalePrice\", data=data)"
   ]
  },
  {
   "cell_type": "markdown",
   "metadata": {
    "colab_type": "text",
    "id": "LfDTXAjaVwjO"
   },
   "source": [
    "\n",
    "MATRIZ DE CORRELACIÓN DE VALORES NUMÉRICOS, PARA LOCALIZAR DEPENDENCIAS ENTRE DIFERENTES VARIABLES"
   ]
  },
  {
   "cell_type": "code",
   "execution_count": null,
   "metadata": {
    "colab": {
     "base_uri": "https://localhost:8080/",
     "height": 615
    },
    "colab_type": "code",
    "id": "uKE0cekfG_nf",
    "outputId": "af7b17de-8a7b-4c31-eef6-1e6119554d3d"
   },
   "outputs": [],
   "source": [
    "# Matriz completa de correlación numérica \n",
    " matrizcorrelacion = train.corr()\n",
    "f, ax = plt.subplots(figsize=(12, 9))\n",
    "sns.heatmap(matrizcorrelacion, vmax=1, square=True);"
   ]
  },
  {
   "cell_type": "markdown",
   "metadata": {
    "colab_type": "text",
    "id": "QGco2sY2XGqX"
   },
   "source": [
    "LA MAYOR CORRELACION CON EL PRECIO DE VENTA\n",
    "\n",
    "Es importante recordar que se trata de correlaciones 2D, entre el precio de venta y otra variable. Al apilar todos los parámetros de las dependencias, la imagen se vuelve más compleja.\n"
   ]
  },
  {
   "cell_type": "code",
   "execution_count": null,
   "metadata": {
    "colab": {
     "base_uri": "https://localhost:8080/",
     "height": 652
    },
    "colab_type": "code",
    "id": "KvhG7dr4HGnl",
    "outputId": "96235986-3b01-4bfc-9819-80a7c1979b56"
   },
   "outputs": [],
   "source": [
    "# PRECIO DE VENTA MATRIZ DE CORRELACION \n",
    "# saleprice correlation matrix\n",
    "variables_correlacionadas = 15 #NUMERO DE VARIABLES\n",
    "columnas_correlacionadas= matrizcorrelacion.nlargest(variables_correlacionadas, 'SalePrice')['SalePrice'].index\n",
    "matriz_corr_ventas = np.corrcoef(train[columnas_correlacionadas].values.T)\n",
    "sns.set(font_scale=1.25)\n",
    "f, ax = plt.subplots(figsize=(12, 9))\n",
    "hm = sns.heatmap(matriz_corr_ventas, cbar=True, annot=True, square=True, fmt='.2f', annot_kws={'size': 7}, yticklabels=cols_corr.values, xticklabels=cols_corr.values)\n",
    "plt.show()"
   ]
  },
  {
   "cell_type": "markdown",
   "metadata": {
    "colab_type": "text",
    "id": "NeRrOUHhX0GF"
   },
   "source": [
    "SE IMPRIMEN O DIBUJAN ALGUNAS DE LAS 8 VARIABLES CON MAS CORRELACION CON EL PRECIO DE VENTA "
   ]
  },
  {
   "cell_type": "code",
   "execution_count": null,
   "metadata": {
    "colab": {
     "base_uri": "https://localhost:8080/",
     "height": 1000
    },
    "colab_type": "code",
    "id": "FTjNbmrBHOSf",
    "outputId": "47d7e285-c46b-4c7c-b967-8b87a654b898"
   },
   "outputs": [],
   "source": [
    "# pair plots for variables with largest correlation\n",
    "numero_variables = 8\n",
    "vars = columnas_correlacionadas[0:numero_variables]\n",
    "\n",
    "sns.set()\n",
    "sns.pairplot(train[vars], size = 2.5)\n",
    "plt.show();"
   ]
  },
  {
   "cell_type": "markdown",
   "metadata": {
    "colab_type": "text",
    "id": "T0JekkLpYcDq"
   },
   "source": [
    "SE PREPARARAN LOS DATOS PARA ENTRENAR A UN MODELO:\n",
    "\n",
    "-SE NECESITA REMOVER A LA VARIABLE QUE SE PREDICE \n",
    "\n",
    "-SE NECESITAN CREAR VARIABLES PARA LAS VARIABLES CATEGORICAS Y EMPAREJAR LAS DIMENSIONES DEL CONJUNTO DE ENTRENAMIENTO Y TEST "
   ]
  },
  {
   "cell_type": "code",
   "execution_count": null,
   "metadata": {
    "colab": {},
    "colab_type": "code",
    "id": "uWIon1kXHWwT"
   },
   "outputs": [],
   "source": [
    "data_atributos = data_atributos.drop(\"SalePrice\", axis = 1)\n",
    "atributos_finales = pd.get_dummies(data_atributos)\n",
    "\n",
    "print(atributos_finales.shape)\n",
    "X = atributos_finales.iloc[:len(y), :]\n",
    "X_test = atributos_finales.iloc[len(y):, :]\n",
    "X.shape, y_train.shape, X_test.shape\n",
    "\n",
    "\n",
    "print(X.shape,y_train.shape,X_test.shape)"
   ]
  },
  {
   "cell_type": "markdown",
   "metadata": {
    "colab_type": "text",
    "id": "VkgiR6e4ZcvA"
   },
   "source": [
    "Se eliminan columnas donde la mayoria son ceros , el 99.95 "
   ]
  },
  {
   "cell_type": "code",
   "execution_count": null,
   "metadata": {
    "colab": {
     "base_uri": "https://localhost:8080/",
     "height": 375
    },
    "colab_type": "code",
    "id": "VBZflOmVHaZ_",
    "outputId": "e3ec61b8-5fcb-47a8-c338-228a02a5e093"
   },
   "outputs": [],
   "source": [
    "# Elimina las columnas donde el umbral de cero es (> 99.95), significa que solo tiene valores cero \n",
    "\n",
    "overfit = []\n",
    "for i in X.columns:\n",
    "    counts = X[i].value_counts()\n",
    "    zeros = counts.iloc[0]\n",
    "    if zeros / len(X) * 100 > 99.95:\n",
    "        overfit.append(i)\n",
    "\n",
    "overfit = list(overfit)\n",
    "overfit.append('MSZoning_C (all)')\n",
    "\n",
    "X = X.drop(overfit, axis=1).copy()\n",
    "X_test = X_test.drop(overfit, axis=1).copy()\n",
    "\n",
    "print(X.shape,y_train.shape,X_test.shape)"
   ]
  },
  {
   "cell_type": "markdown",
   "metadata": {
    "colab_type": "text",
    "id": "-BQ6GR8gyNW3"
   },
   "source": [
    "SE CREA EL MODELO DE APRENDIZAJE\n",
    "\n",
    "- SE UTILIZAN ALGUNAS LIBRERIAS\n",
    "\n",
    "- SE DEFINEN EL NUMERO DE FOLDS PARA VALIDACION Y LAS FUNCIONES ERROR PARA EVALUAR EL RENDIMIENTO FUERA DEL ENTRENAMIENTO COMO RMSE O RMSLE\n",
    "\n",
    "- SE UTILIZAN DISTINTOS TIPOS DE MODELO COMO (ELASTIC NET, SVM, LASSO, XBOOST)\n",
    " "
   ]
  },
  {
   "cell_type": "code",
   "execution_count": null,
   "metadata": {
    "colab": {},
    "colab_type": "code",
    "id": "Zv68ExdcHlci"
   },
   "outputs": [],
   "source": [
    "from datetime import datetime\n",
    "from sklearn.preprocessing import RobustScaler\n",
    "from sklearn.model_selection import KFold, cross_val_score\n",
    "from sklearn.metrics import mean_squared_error , make_scorer\n",
    "from sklearn.linear_model import ElasticNetCV, LassoCV, RidgeCV\n",
    "from sklearn.pipeline import make_pipeline\n",
    "from sklearn.linear_model import LinearRegression\n",
    "\n",
    "from sklearn.ensemble import GradientBoostingRegressor\n",
    "from sklearn.svm import SVR\n",
    "from mlxtend.regressor import StackingCVRegressor\n",
    "from sklearn.linear_model import LinearRegression\n",
    "\n",
    "from xgboost import XGBRegressor\n",
    "from lightgbm import LGBMRegressor"
   ]
  },
  {
   "cell_type": "code",
   "execution_count": null,
   "metadata": {
    "colab": {},
    "colab_type": "code",
    "id": "pO1oCOxsKY-N"
   },
   "outputs": [],
   "source": [
    "kfolds = KFold(n_splits=18, shuffle=True, random_state=42)\n",
    "\n",
    "# funcion de validacion y puntuacion del modelo\n",
    "def cv_rmse(model, X=X):\n",
    "    rmse = np.sqrt(-cross_val_score(model, X, y,scoring=\"neg_mean_squared_error\",cv=kfolds))\n",
    "    return (rmse)\n",
    "\n",
    "# función de puntuación rmsle\n",
    "def rmsle(y, y_pred):\n",
    "    return np.sqrt(mean_squared_error(y, y_pred))"
   ]
  },
  {
   "cell_type": "code",
   "execution_count": null,
   "metadata": {
    "colab": {},
    "colab_type": "code",
    "id": "zl4xcPYPxKPC"
   },
   "outputs": [],
   "source": [
    "lightgbm = LGBMRegressor(objective='regression', \n",
    "                                       num_leaves=4, #was 3\n",
    "                                       learning_rate=0.01, \n",
    "                                       n_estimators=9000, #8000\n",
    "                                       max_bin=200, \n",
    "                                       bagging_fraction=0.75,\n",
    "                                       bagging_freq=5, \n",
    "                                       bagging_seed=7,\n",
    "                                       feature_fraction=0.2, # 'was 0.2'\n",
    "                                       feature_fraction_seed=7,\n",
    "                                       verbose=-1,\n",
    "                                       )\n",
    "\n",
    "xgboost = XGBRegressor(learning_rate=0.01,n_estimators=3460,\n",
    "                                      max_depth=3, min_child_weight=0,\n",
    "                                     gamma=0, subsample=0.7,\n",
    "                                      colsample_bytree=0.7,\n",
    "                                      objective='reg:linear', nthread=-1,\n",
    "                                      scale_pos_weight=1, seed=27,\n",
    "                                      reg_alpha=0.00006)\n",
    "\n",
    "\n",
    "# Establecer los hiperparametros usando una pipline\n",
    "# El proposito de la pipeline es consiste en ensamblar varios pasos que se pueden validar de forma cruzada juntos, mientras se establecen diferentes parámetros.\n",
    "# Este es un rango de valores que el modelo considera cada vez en validacion cruzada\n",
    "e_alphas = [0.0001, 0.0002, 0.0003, 0.0004, 0.0005, 0.0006, 0.0007]\n",
    "e_l1ratio = [0.8, 0.85, 0.9, 0.95, 0.99, 1]\n",
    "alphas_alt = [14.5, 14.6, 14.7, 14.8, 14.9, 15, 15.1, 15.2, 15.3, 15.4, 15.5]\n",
    "alphas2 = [5e-05, 0.0001, 0.0002, 0.0003, 0.0004, 0.0005, 0.0006, 0.0007, 0.0008]\n",
    "\n",
    "\n",
    "# Regresion rigida robusta para outliers\n",
    "ridge = make_pipeline(RobustScaler(), RidgeCV(alphas=alphas_alt, cv=kfolds))\n",
    "\n",
    "# Regresion LASSO rigida robusta para outliers\n",
    "\n",
    "lasso = make_pipeline(RobustScaler(), LassoCV(max_iter=1e7, \n",
    "                    alphas=alphas2,random_state=42, cv=kfolds))\n",
    "\n",
    "# Elastic Net Regresion rigida robusta para outliers\n",
    "elasticnet = make_pipeline(RobustScaler(), ElasticNetCV(max_iter=1e7, \n",
    "                         alphas=e_alphas, cv=kfolds, l1_ratio=e_l1ratio))\n",
    "\n",
    "\n",
    "stack_gen = StackingCVRegressor(regressors=(ridge, lasso, elasticnet, lightgbm),\n",
    "                                meta_regressor=elasticnet,\n",
    "                                use_features_in_secondary=True)\n",
    "\n",
    "\n",
    "svr = make_pipeline(RobustScaler(), SVR(C= 20, epsilon= 0.008, gamma=0.0003))\n",
    "\n",
    "# Guardar modelos, calificaciones y valores de prediccion\n",
    "modelos = {'Ridge': ridge,\n",
    "          'Lasso': lasso, \n",
    "          'ElasticNet': elasticnet,\n",
    "          'lightgbm': lightgbm,\n",
    "          'Svd': svr,\n",
    "          'xgboost': xgboost}\n",
    "predicciones = {}\n",
    "puntuaciones = {}"
   ]
  },
  {
   "cell_type": "markdown",
   "metadata": {
    "colab_type": "text",
    "id": "_pR8QMAz0VuX"
   },
   "source": [
    "SE ENTRENAN LOS MODELOS  Y SE OBTIENE SU RENDIMIENTO"
   ]
  },
  {
   "cell_type": "code",
   "execution_count": null,
   "metadata": {
    "colab": {
     "base_uri": "https://localhost:8080/",
     "height": 340
    },
    "colab_type": "code",
    "id": "2R0NgbRjxNNF",
    "outputId": "eeb6268f-aaa6-4d23-82fd-56905fb25842"
   },
   "outputs": [],
   "source": [
    "for nombre, modelo in modelos.items():\n",
    "    \n",
    "    modelo.fit(X, y)\n",
    "    predicciones[nombre] = np.expm1(modelo.predict(X))\n",
    "    \n",
    "    puntuacion = cv_rmse(modelo, X=X)\n",
    "    puntuaciones[nombre] = (puntuacion.mean(), puntuacion.std())"
   ]
  },
  {
   "cell_type": "markdown",
   "metadata": {
    "colab_type": "text",
    "id": "9DHpNMqp0h8a"
   },
   "source": [
    "SE VALIDAN LOS MODELOS Y SE ENTRENA CADA MODELO "
   ]
  },
  {
   "cell_type": "code",
   "execution_count": null,
   "metadata": {
    "colab": {},
    "colab_type": "code",
    "id": "bagGE0dDxSsv"
   },
   "outputs": [],
   "source": [
    "# obtener el rendimiento de cada modelo sobre el conjunto de validacion \n",
    "print('---- puntuacion con CV_RMSLE-----')\n",
    "puntuacion = cv_rmse(ridge)\n",
    "print(\"Ridge puntuacion: {:.4f} ({:.4f})\\n\".format(puntuacion.mean(), puntuacion.std()))\n",
    "\n",
    "puntuacion = cv_rmse(lasso)\n",
    "print(\"Lasso puntuacion: {:.4f} ({:.4f})\\n\".format(puntuacion.mean(), puntuacion.std()))\n",
    "\n",
    "puntuacion = cv_rmse(elasticnet)\n",
    "print(\"ElasticNet puntuacion: {:.4f} ({:.4f})\\n\".format(puntuacion.mean(), puntuacion.std()))\n",
    "\n",
    "puntuacion = cv_rmse(lightgbm)\n",
    "print(\"lightgbm puntuacion: {:.4f} ({:.4f})\\n\".format(puntuacion.mean(), puntuacion.std()))\n",
    "\n",
    "puntuacion = cv_rmse(svr)\n",
    "print(\"SVR: {:.4f} ({:.4f})\".format(puntuacion.mean(), puntuacion.std()))\n",
    "\n",
    "#scores['svr'] = (score.mean(), score.std())\n",
    "\n",
    "puntuacion = cv_rmse(xgboost)\n",
    "print(\"xgboost score: {:.4f} ({:.4f})\\n\".format(puntuacion.mean(), puntuacion.std()))\n",
    "\n",
    "# Ajustar los datos de entrenamiento X, y\n",
    "print('----Empezar entrenamiento----',datetime.now())\n",
    "print('Elasticnet')\n",
    "modelo_elastic = elasticnet.fit(X, y)\n",
    "print('Lasso')\n",
    "modelo_lasso = lasso.fit(X, y)\n",
    "print('Ridge')\n",
    "modelo_ridge = ridge.fit(X, y)\n",
    "print('lightgbm')\n",
    "modelo_lgb_todos_datos = lightgbm.fit(X, y)\n",
    "print('Svr')\n",
    "modelo_svr_todos_datos = svr.fit(X,y)\n",
    "\n",
    "print('xgboost')\n",
    "modelo_xgb_todos_datos= xgboost.fit(X, y)\n",
    "\n",
    "print('stack_gen')\n",
    "modelo_gen_stack= stack_gen.fit(np.array(X), np.array(y))\n"
   ]
  },
  {
   "cell_type": "markdown",
   "metadata": {
    "colab_type": "text",
    "id": "SsGAu-Vd3z2I"
   },
   "source": [
    "\n",
    "Prediccion de un modelo mezclado"
   ]
  },
  {
   "cell_type": "code",
   "execution_count": null,
   "metadata": {
    "colab": {},
    "colab_type": "code",
    "id": "S87bn_UHxV6-"
   },
   "outputs": [],
   "source": [
    "def mix_modelos_prediccion(X):\n",
    "    return ((0.16  * modelo_elastic.predict(X)) + \\\n",
    "            (0.16 * modelo_lasso.predict(X)) + \\\n",
    "            (0.11 * model_ridge.predict(X)) + \\\n",
    "            (0.2 * modelo_lgb_todos_datos.predict(X)) + \\\n",
    "            (0.1 * modelo_svr_todos_datos.predict(X)) + \\\n",
    "            (0.0 * modelo_xgb_todos_datos.predict(X)) + \\\n",
    "            (0.27 * modelo_gen_stack.predict(np.array(X))))"
   ]
  },
  {
   "cell_type": "markdown",
   "metadata": {
    "colab_type": "text",
    "id": "hYGy4cQTlMVD"
   },
   "source": [
    "PUNTUACION SOBRE los datos "
   ]
  },
  {
   "cell_type": "code",
   "execution_count": null,
   "metadata": {
    "colab": {},
    "colab_type": "code",
    "id": "8uhUHgX3xYc7"
   },
   "outputs": [],
   "source": [
    "print('RMSL puntuacion sobre los datos entrenados')\n",
    "print(rmsle(y, mix_modelos_prediccion(X)))"
   ]
  },
  {
   "cell_type": "markdown",
   "metadata": {
    "colab_type": "text",
    "id": "eDuW2cS-lQyB"
   },
   "source": [
    "PREDICCION DE RESULTADOS Y CREACION DEL ARCHIVO FINAL PARA LA PLATAFORMA"
   ]
  },
  {
   "cell_type": "code",
   "execution_count": null,
   "metadata": {
    "colab": {},
    "colab_type": "code",
    "id": "z1Ye-0h2xaoM"
   },
   "outputs": [],
   "source": [
    "print('Predicir resultados')\n",
    "\n",
    "submission = pd.read_csv(\"/content/gdrive/My Drive/ML/sample_submission.csv\")\n",
    "submission.iloc[:,1] = (np.expm1(blend_models_predict(X_test)))"
   ]
  },
  {
   "cell_type": "code",
   "execution_count": null,
   "metadata": {
    "colab": {},
    "colab_type": "code",
    "id": "W_7I-Fk-xe3h"
   },
   "outputs": [],
   "source": [
    " #q1 = submission['SalePrice'].quantile(0.0042)\n",
    " #q2 = submission['SalePrice'].quantile(0.99)\n",
    " # Quantiles helping us get some extreme values for extremely low or high values \n",
    " #submission['SalePrice'] = submission['SalePrice'].apply(lambda x: x if x > q1 else x*0.77)\n",
    " #submission['SalePrice'] = submission['SalePrice'].apply(lambda x: x if x < q2 else x*1.1)\n",
    "submission.to_csv(\"submission.csv\", index=False)"
   ]
  },
  {
   "cell_type": "code",
   "execution_count": null,
   "metadata": {
    "colab": {},
    "colab_type": "code",
    "id": "_NH63WyExhVA"
   },
   "outputs": [],
   "source": [
    "from google.colab import files\n",
    "files.download(\"submission.csv\")"
   ]
  }
 ],
 "metadata": {
  "colab": {
   "collapsed_sections": [],
   "name": "MLprojectone.ipynb",
   "provenance": []
  },
  "kernelspec": {
   "display_name": "Python 3",
   "language": "python",
   "name": "python3"
  },
  "language_info": {
   "codemirror_mode": {
    "name": "ipython",
    "version": 3
   },
   "file_extension": ".py",
   "mimetype": "text/x-python",
   "name": "python",
   "nbconvert_exporter": "python",
   "pygments_lexer": "ipython3",
   "version": "3.7.3"
  }
 },
 "nbformat": 4,
 "nbformat_minor": 1
}
