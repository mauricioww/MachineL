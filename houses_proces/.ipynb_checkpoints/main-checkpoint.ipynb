{
 "cells": [
  {
   "cell_type": "markdown",
   "metadata": {},
   "source": [
    "Instalar las siguientes bibliotecas necesarias para el procesamiento: "
   ]
  },
  {
   "cell_type": "code",
   "execution_count": 14,
   "metadata": {},
   "outputs": [
    {
     "ename": "ModuleNotFoundError",
     "evalue": "No module named 'mxnet'",
     "output_type": "error",
     "traceback": [
      "\u001b[0;31m---------------------------------------------------------------------------\u001b[0m",
      "\u001b[0;31mModuleNotFoundError\u001b[0m                       Traceback (most recent call last)",
      "\u001b[0;32m<ipython-input-14-0a36253749dd>\u001b[0m in \u001b[0;36m<module>\u001b[0;34m\u001b[0m\n\u001b[1;32m      1\u001b[0m \u001b[0mget_ipython\u001b[0m\u001b[0;34m(\u001b[0m\u001b[0;34m)\u001b[0m\u001b[0;34m.\u001b[0m\u001b[0mrun_line_magic\u001b[0m\u001b[0;34m(\u001b[0m\u001b[0;34m'matplotlib'\u001b[0m\u001b[0;34m,\u001b[0m \u001b[0;34m'inline'\u001b[0m\u001b[0;34m)\u001b[0m\u001b[0;34m\u001b[0m\u001b[0;34m\u001b[0m\u001b[0m\n\u001b[0;32m----> 2\u001b[0;31m \u001b[0;32mfrom\u001b[0m \u001b[0md2l\u001b[0m \u001b[0;32mimport\u001b[0m \u001b[0;34m*\u001b[0m\u001b[0;34m\u001b[0m\u001b[0;34m\u001b[0m\u001b[0m\n\u001b[0m\u001b[1;32m      3\u001b[0m \u001b[0;32mfrom\u001b[0m \u001b[0mmxnet\u001b[0m \u001b[0;32mimport\u001b[0m \u001b[0mautograd\u001b[0m\u001b[0;34m,\u001b[0m \u001b[0mgluon\u001b[0m\u001b[0;34m,\u001b[0m \u001b[0minit\u001b[0m\u001b[0;34m,\u001b[0m \u001b[0mnp\u001b[0m\u001b[0;34m,\u001b[0m \u001b[0mnpx\u001b[0m\u001b[0;34m\u001b[0m\u001b[0;34m\u001b[0m\u001b[0m\n\u001b[1;32m      4\u001b[0m \u001b[0;32mfrom\u001b[0m \u001b[0mmxnet\u001b[0m\u001b[0;34m.\u001b[0m\u001b[0mgluon\u001b[0m \u001b[0;32mimport\u001b[0m \u001b[0mnn\u001b[0m\u001b[0;34m\u001b[0m\u001b[0;34m\u001b[0m\u001b[0m\n\u001b[1;32m      5\u001b[0m \u001b[0;32mimport\u001b[0m \u001b[0mpandas\u001b[0m \u001b[0;32mas\u001b[0m \u001b[0mpd\u001b[0m\u001b[0;34m\u001b[0m\u001b[0;34m\u001b[0m\u001b[0m\n",
      "\u001b[0;32m~/anaconda3/lib/python3.7/site-packages/d2l/__init__.py\u001b[0m in \u001b[0;36m<module>\u001b[0;34m\u001b[0m\n\u001b[0;32m----> 1\u001b[0;31m \u001b[0;32mfrom\u001b[0m \u001b[0;34m.\u001b[0m\u001b[0md2l\u001b[0m \u001b[0;32mimport\u001b[0m \u001b[0;34m*\u001b[0m\u001b[0;34m\u001b[0m\u001b[0;34m\u001b[0m\u001b[0m\n\u001b[0m\u001b[1;32m      2\u001b[0m \u001b[0;34m\u001b[0m\u001b[0m\n\u001b[1;32m      3\u001b[0m \u001b[0m__version__\u001b[0m \u001b[0;34m=\u001b[0m \u001b[0;34m'0.10.1'\u001b[0m\u001b[0;34m\u001b[0m\u001b[0;34m\u001b[0m\u001b[0m\n",
      "\u001b[0;32m~/anaconda3/lib/python3.7/site-packages/d2l/d2l.py\u001b[0m in \u001b[0;36m<module>\u001b[0;34m\u001b[0m\n\u001b[1;32m     14\u001b[0m \u001b[0;32mimport\u001b[0m \u001b[0mmath\u001b[0m\u001b[0;34m\u001b[0m\u001b[0;34m\u001b[0m\u001b[0m\n\u001b[1;32m     15\u001b[0m \u001b[0;32mfrom\u001b[0m \u001b[0mmatplotlib\u001b[0m \u001b[0;32mimport\u001b[0m \u001b[0mpyplot\u001b[0m \u001b[0;32mas\u001b[0m \u001b[0mplt\u001b[0m\u001b[0;34m\u001b[0m\u001b[0;34m\u001b[0m\u001b[0m\n\u001b[0;32m---> 16\u001b[0;31m \u001b[0;32mfrom\u001b[0m \u001b[0mmxnet\u001b[0m \u001b[0;32mimport\u001b[0m \u001b[0mnd\u001b[0m\u001b[0;34m,\u001b[0m \u001b[0mautograd\u001b[0m\u001b[0;34m,\u001b[0m \u001b[0mgluon\u001b[0m\u001b[0;34m,\u001b[0m \u001b[0minit\u001b[0m\u001b[0;34m,\u001b[0m \u001b[0mcontext\u001b[0m\u001b[0;34m,\u001b[0m \u001b[0mimage\u001b[0m\u001b[0;34m\u001b[0m\u001b[0;34m\u001b[0m\u001b[0m\n\u001b[0m\u001b[1;32m     17\u001b[0m \u001b[0;32mfrom\u001b[0m \u001b[0mmxnet\u001b[0m\u001b[0;34m.\u001b[0m\u001b[0mgluon\u001b[0m \u001b[0;32mimport\u001b[0m \u001b[0mnn\u001b[0m\u001b[0;34m,\u001b[0m \u001b[0mrnn\u001b[0m\u001b[0;34m\u001b[0m\u001b[0;34m\u001b[0m\u001b[0m\n\u001b[1;32m     18\u001b[0m \u001b[0;32mimport\u001b[0m \u001b[0mrandom\u001b[0m\u001b[0;34m\u001b[0m\u001b[0;34m\u001b[0m\u001b[0m\n",
      "\u001b[0;31mModuleNotFoundError\u001b[0m: No module named 'mxnet'"
     ]
    }
   ],
   "source": [
    "%matplotlib inline\n",
    "import d2l\n",
    "from mxnet import autograd, gluon, init, np, npx\n",
    "from mxnet.gluon import nn\n",
    "import pandas as pd\n",
    "npx.set_np()"
   ]
  },
  {
   "cell_type": "code",
   "execution_count": 10,
   "metadata": {},
   "outputs": [
    {
     "name": "stdout",
     "output_type": "stream",
     "text": [
      "Requirement already satisfied: d2l in /home/mauricio/anaconda3/lib/python3.7/site-packages (0.10.1)\n",
      "Requirement already satisfied: matplotlib in /home/mauricio/anaconda3/lib/python3.7/site-packages (from d2l) (3.1.1)\n",
      "Requirement already satisfied: pandas in /home/mauricio/anaconda3/lib/python3.7/site-packages (from d2l) (0.25.1)\n",
      "Requirement already satisfied: numpy in /home/mauricio/anaconda3/lib/python3.7/site-packages (from d2l) (1.17.2)\n",
      "Requirement already satisfied: jupyter in /home/mauricio/.local/lib/python3.7/site-packages (from d2l) (1.0.0)\n",
      "Requirement already satisfied: cycler>=0.10 in /home/mauricio/anaconda3/lib/python3.7/site-packages (from matplotlib->d2l) (0.10.0)\n",
      "Requirement already satisfied: kiwisolver>=1.0.1 in /home/mauricio/anaconda3/lib/python3.7/site-packages (from matplotlib->d2l) (1.1.0)\n",
      "Requirement already satisfied: pyparsing!=2.0.4,!=2.1.2,!=2.1.6,>=2.0.1 in /home/mauricio/anaconda3/lib/python3.7/site-packages (from matplotlib->d2l) (2.4.2)\n",
      "Requirement already satisfied: python-dateutil>=2.1 in /home/mauricio/.local/lib/python3.7/site-packages (from matplotlib->d2l) (2.8.1)\n",
      "Requirement already satisfied: pytz>=2017.2 in /home/mauricio/anaconda3/lib/python3.7/site-packages (from pandas->d2l) (2019.3)\n",
      "Requirement already satisfied: notebook in /home/mauricio/.local/lib/python3.7/site-packages (from jupyter->d2l) (6.0.2)\n",
      "Requirement already satisfied: ipykernel in /home/mauricio/.local/lib/python3.7/site-packages (from jupyter->d2l) (5.1.3)\n",
      "Requirement already satisfied: qtconsole in /home/mauricio/.local/lib/python3.7/site-packages (from jupyter->d2l) (4.5.5)\n",
      "Requirement already satisfied: jupyter-console in /home/mauricio/.local/lib/python3.7/site-packages (from jupyter->d2l) (6.0.0)\n",
      "Requirement already satisfied: nbconvert in /home/mauricio/.local/lib/python3.7/site-packages (from jupyter->d2l) (5.6.1)\n",
      "Requirement already satisfied: ipywidgets in /home/mauricio/.local/lib/python3.7/site-packages (from jupyter->d2l) (7.5.1)\n",
      "Requirement already satisfied: six in /home/mauricio/anaconda3/lib/python3.7/site-packages (from cycler>=0.10->matplotlib->d2l) (1.12.0)\n",
      "Requirement already satisfied: setuptools in /home/mauricio/anaconda3/lib/python3.7/site-packages (from kiwisolver>=1.0.1->matplotlib->d2l) (41.4.0)\n",
      "Requirement already satisfied: jinja2 in /home/mauricio/.local/lib/python3.7/site-packages (from notebook->jupyter->d2l) (2.10.3)\n",
      "Requirement already satisfied: jupyter-client>=5.3.4 in /home/mauricio/.local/lib/python3.7/site-packages (from notebook->jupyter->d2l) (5.3.4)\n",
      "Requirement already satisfied: nbformat in /home/mauricio/.local/lib/python3.7/site-packages (from notebook->jupyter->d2l) (4.4.0)\n",
      "Requirement already satisfied: terminado>=0.8.1 in /home/mauricio/.local/lib/python3.7/site-packages (from notebook->jupyter->d2l) (0.8.2)\n",
      "Requirement already satisfied: ipython-genutils in /home/mauricio/.local/lib/python3.7/site-packages (from notebook->jupyter->d2l) (0.2.0)\n",
      "Requirement already satisfied: jupyter-core>=4.6.0 in /home/mauricio/.local/lib/python3.7/site-packages (from notebook->jupyter->d2l) (4.6.1)\n",
      "Requirement already satisfied: prometheus-client in /home/mauricio/.local/lib/python3.7/site-packages (from notebook->jupyter->d2l) (0.7.1)\n",
      "Requirement already satisfied: Send2Trash in /home/mauricio/.local/lib/python3.7/site-packages (from notebook->jupyter->d2l) (1.5.0)\n",
      "Requirement already satisfied: pyzmq>=17 in /home/mauricio/.local/lib/python3.7/site-packages (from notebook->jupyter->d2l) (18.1.0)\n",
      "Requirement already satisfied: tornado>=5.0 in /home/mauricio/.local/lib/python3.7/site-packages (from notebook->jupyter->d2l) (6.0.3)\n",
      "Requirement already satisfied: traitlets>=4.2.1 in /home/mauricio/.local/lib/python3.7/site-packages (from notebook->jupyter->d2l) (4.3.3)\n",
      "Requirement already satisfied: ipython>=5.0.0 in /home/mauricio/.local/lib/python3.7/site-packages (from ipykernel->jupyter->d2l) (7.9.0)\n",
      "Requirement already satisfied: pygments in /home/mauricio/.local/lib/python3.7/site-packages (from qtconsole->jupyter->d2l) (2.4.2)\n",
      "Requirement already satisfied: prompt-toolkit<2.1.0,>=2.0.0 in /home/mauricio/.local/lib/python3.7/site-packages (from jupyter-console->jupyter->d2l) (2.0.10)\n",
      "Requirement already satisfied: mistune<2,>=0.8.1 in /home/mauricio/.local/lib/python3.7/site-packages (from nbconvert->jupyter->d2l) (0.8.4)\n",
      "Requirement already satisfied: bleach in /home/mauricio/.local/lib/python3.7/site-packages (from nbconvert->jupyter->d2l) (3.1.0)\n",
      "Requirement already satisfied: defusedxml in /home/mauricio/.local/lib/python3.7/site-packages (from nbconvert->jupyter->d2l) (0.6.0)\n",
      "Requirement already satisfied: pandocfilters>=1.4.1 in /home/mauricio/.local/lib/python3.7/site-packages (from nbconvert->jupyter->d2l) (1.4.2)\n",
      "Requirement already satisfied: entrypoints>=0.2.2 in /home/mauricio/.local/lib/python3.7/site-packages (from nbconvert->jupyter->d2l) (0.3)\n",
      "Requirement already satisfied: testpath in /home/mauricio/.local/lib/python3.7/site-packages (from nbconvert->jupyter->d2l) (0.4.4)\n",
      "Requirement already satisfied: widgetsnbextension~=3.5.0 in /home/mauricio/.local/lib/python3.7/site-packages (from ipywidgets->jupyter->d2l) (3.5.1)\n",
      "Requirement already satisfied: MarkupSafe>=0.23 in /home/mauricio/.local/lib/python3.7/site-packages (from jinja2->notebook->jupyter->d2l) (1.1.1)\n",
      "Requirement already satisfied: jsonschema!=2.5.0,>=2.4 in /home/mauricio/.local/lib/python3.7/site-packages (from nbformat->notebook->jupyter->d2l) (3.1.1)\n",
      "Requirement already satisfied: ptyprocess; os_name != \"nt\" in /home/mauricio/.local/lib/python3.7/site-packages (from terminado>=0.8.1->notebook->jupyter->d2l) (0.6.0)\n",
      "Requirement already satisfied: decorator in /home/mauricio/.local/lib/python3.7/site-packages (from traitlets>=4.2.1->notebook->jupyter->d2l) (4.4.1)\n",
      "Requirement already satisfied: jedi>=0.10 in /home/mauricio/.local/lib/python3.7/site-packages (from ipython>=5.0.0->ipykernel->jupyter->d2l) (0.15.1)\n",
      "Requirement already satisfied: pexpect; sys_platform != \"win32\" in /home/mauricio/.local/lib/python3.7/site-packages (from ipython>=5.0.0->ipykernel->jupyter->d2l) (4.7.0)\n",
      "Requirement already satisfied: backcall in /home/mauricio/.local/lib/python3.7/site-packages (from ipython>=5.0.0->ipykernel->jupyter->d2l) (0.1.0)\n",
      "Requirement already satisfied: pickleshare in /home/mauricio/.local/lib/python3.7/site-packages (from ipython>=5.0.0->ipykernel->jupyter->d2l) (0.7.5)\n",
      "Requirement already satisfied: wcwidth in /home/mauricio/.local/lib/python3.7/site-packages (from prompt-toolkit<2.1.0,>=2.0.0->jupyter-console->jupyter->d2l) (0.1.7)\n",
      "Requirement already satisfied: webencodings in /home/mauricio/anaconda3/lib/python3.7/site-packages (from bleach->nbconvert->jupyter->d2l) (0.5.1)\n",
      "Requirement already satisfied: pyrsistent>=0.14.0 in /home/mauricio/.local/lib/python3.7/site-packages (from jsonschema!=2.5.0,>=2.4->nbformat->notebook->jupyter->d2l) (0.15.5)\n",
      "Requirement already satisfied: attrs>=17.4.0 in /home/mauricio/.local/lib/python3.7/site-packages (from jsonschema!=2.5.0,>=2.4->nbformat->notebook->jupyter->d2l) (19.3.0)\n",
      "Requirement already satisfied: importlib-metadata in /home/mauricio/.local/lib/python3.7/site-packages (from jsonschema!=2.5.0,>=2.4->nbformat->notebook->jupyter->d2l) (0.23)\n",
      "Requirement already satisfied: parso>=0.5.0 in /home/mauricio/.local/lib/python3.7/site-packages (from jedi>=0.10->ipython>=5.0.0->ipykernel->jupyter->d2l) (0.5.1)\n",
      "Requirement already satisfied: zipp>=0.5 in /home/mauricio/.local/lib/python3.7/site-packages (from importlib-metadata->jsonschema!=2.5.0,>=2.4->nbformat->notebook->jupyter->d2l) (0.6.0)\n",
      "Requirement already satisfied: more-itertools in /home/mauricio/.local/lib/python3.7/site-packages (from zipp>=0.5->importlib-metadata->jsonschema!=2.5.0,>=2.4->nbformat->notebook->jupyter->d2l) (7.2.0)\n",
      "Note: you may need to restart the kernel to use updated packages.\n"
     ]
    }
   ],
   "source": [
    "pip install d2l"
   ]
  }
 ],
 "metadata": {
  "kernelspec": {
   "display_name": "Python 3",
   "language": "python",
   "name": "python3"
  },
  "language_info": {
   "codemirror_mode": {
    "name": "ipython",
    "version": 3
   },
   "file_extension": ".py",
   "mimetype": "text/x-python",
   "name": "python",
   "nbconvert_exporter": "python",
   "pygments_lexer": "ipython3",
   "version": "3.7.4"
  }
 },
 "nbformat": 4,
 "nbformat_minor": 2
}
